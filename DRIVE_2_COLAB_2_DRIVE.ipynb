{
  "nbformat": 4,
  "nbformat_minor": 0,
  "metadata": {
    "colab": {
      "name": "DRIVE_2_COLAB_2_DRIVE.ipynb",
      "version": "0.3.2",
      "provenance": [],
      "include_colab_link": true
    },
    "kernelspec": {
      "name": "python2",
      "display_name": "Python 2"
    }
  },
  "cells": [
    {
      "cell_type": "markdown",
      "metadata": {
        "id": "view-in-github",
        "colab_type": "text"
      },
      "source": [
        "[View in Colaboratory](https://colab.research.google.com/github/RaulMedeiros/Colab_Snippets/blob/master/DRIVE_2_COLAB_2_DRIVE.ipynb)"
      ]
    },
    {
      "metadata": {
        "id": "RR-DlSbZlzOG",
        "colab_type": "code",
        "colab": {}
      },
      "cell_type": "code",
      "source": [
        "src_drive_folder_id = '1g-RVsY_sjokhG34KxGZPFYWam0NSdU1X'\n",
        "out_drive_folder_id = '1Zkx5UfATBDCmQP4A4VDzFYTjjy6LIbq3'"
      ],
      "execution_count": 0,
      "outputs": []
    },
    {
      "metadata": {
        "id": "RmlXEWitxxOc",
        "colab_type": "text"
      },
      "cell_type": "markdown",
      "source": [
        "## Authenticate PyDrive client"
      ]
    },
    {
      "metadata": {
        "id": "z0n5f30hmATI",
        "colab_type": "code",
        "colab": {}
      },
      "cell_type": "code",
      "source": [
        "# Install the PyDrive wrapper & import libraries.\n",
        "# This only needs to be done once per notebook.\n",
        "!pip install -U -q PyDrive\n",
        "from pydrive.auth import GoogleAuth\n",
        "from pydrive.drive import GoogleDrive\n",
        "from google.colab import auth\n",
        "from oauth2client.client import GoogleCredentials\n",
        "\n",
        "# Authenticate and create the PyDrive client.\n",
        "# This only needs to be done once per notebook.\n",
        "auth.authenticate_user()\n",
        "gauth = GoogleAuth()\n",
        "gauth.credentials = GoogleCredentials.get_application_default()\n",
        "drive = GoogleDrive(gauth)"
      ],
      "execution_count": 0,
      "outputs": []
    },
    {
      "metadata": {
        "id": "zurPgXkGx8sk",
        "colab_type": "text"
      },
      "cell_type": "markdown",
      "source": [
        "## Import File from drive"
      ]
    },
    {
      "metadata": {
        "id": "ng3ExOaAmCEA",
        "colab_type": "code",
        "colab": {
          "base_uri": "https://localhost:8080/",
          "height": 51
        },
        "outputId": "7a3569bd-c5d0-4c6c-9184-4527b049512f"
      },
      "cell_type": "code",
      "source": [
        "!pip3 install -q pandas\n",
        "import pandas as pd\n",
        "\n",
        "def load_and_unzip_file(folder_id):\n",
        "  \"\"\"Download and unzip dataset\"\"\"   \n",
        "\n",
        "  info = pd.DataFrame(drive.ListFile({'q': \"'\"+folder_id +\"' in parents and trashed=false\" }).GetList())  \n",
        "  zip_id = info['id'].values[0]\n",
        "  zip_title = info['title'].values[0]\n",
        "  downloaded = drive.CreateFile({'id': zip_id })\n",
        "  downloaded.GetContentFile(zip_title)  \n",
        "  \n",
        "  !unzip -q $zip_title \n",
        "  !rm $zip_title\n",
        "  !ls\n",
        "  \n",
        "  return True\n",
        "\n",
        "## Load and Unconpress data\n",
        "load_and_unzip_file(src_drive_folder_id)"
      ],
      "execution_count": 3,
      "outputs": [
        {
          "output_type": "stream",
          "text": [
            "adc.json  datalab  dataset  sample_data\r\n"
          ],
          "name": "stdout"
        },
        {
          "output_type": "execute_result",
          "data": {
            "text/plain": [
              "True"
            ]
          },
          "metadata": {
            "tags": []
          },
          "execution_count": 3
        }
      ]
    },
    {
      "metadata": {
        "id": "4d__QRsohrwb",
        "colab_type": "code",
        "colab": {
          "base_uri": "https://localhost:8080/",
          "height": 34
        },
        "outputId": "b1eb72d3-9d72-42e9-963c-367699646709"
      },
      "cell_type": "code",
      "source": [
        "!ls dataset\n"
      ],
      "execution_count": 4,
      "outputs": [
        {
          "output_type": "stream",
          "text": [
            "file (another copy).txt  file (copy).txt  file.txt\r\n"
          ],
          "name": "stdout"
        }
      ]
    },
    {
      "metadata": {
        "id": "j7DsdHMLqaYw",
        "colab_type": "text"
      },
      "cell_type": "markdown",
      "source": [
        "## Export colab folder to drive folder"
      ]
    },
    {
      "metadata": {
        "id": "PXOw7e1Qmhf2",
        "colab_type": "code",
        "colab": {
          "base_uri": "https://localhost:8080/",
          "height": 136
        },
        "outputId": "7cf9e823-3c2a-4110-f32a-aa319f8a5fd5"
      },
      "cell_type": "code",
      "source": [
        "def export_folder(out_folder_path,out_drive_folder_id):\n",
        "  '''Export colab folder to drive folder '''\n",
        "  file = drive.CreateFile({\"parents\": [{\"kind\": \"drive#fileLink\",\n",
        "                                        \"id\": out_drive_folder_id}]})\n",
        "  # Zip folder\n",
        "  !zip -r out.zip $out_folder_path \n",
        "  !ls\n",
        "  \n",
        "  # Export file\n",
        "  file.SetContentFile('out.zip')\n",
        "  file.Upload() \n",
        "  !rm out.zip\n",
        "  !ls\n",
        "  return True\n",
        "\n",
        "folder_path = './dataset'\n",
        "export_folder(folder_path,out_drive_folder_id)"
      ],
      "execution_count": 5,
      "outputs": [
        {
          "output_type": "stream",
          "text": [
            "  adding: dataset/ (stored 0%)\r\n",
            "  adding: dataset/file (another copy).txt (stored 0%)\r\n",
            "  adding: dataset/file (copy).txt (stored 0%)\r\n",
            "  adding: dataset/file.txt (stored 0%)\n",
            "adc.json  datalab  dataset  out.zip  sample_data\n",
            "adc.json  datalab  dataset  sample_data\n"
          ],
          "name": "stdout"
        },
        {
          "output_type": "execute_result",
          "data": {
            "text/plain": [
              "True"
            ]
          },
          "metadata": {
            "tags": []
          },
          "execution_count": 5
        }
      ]
    }
  ]
}