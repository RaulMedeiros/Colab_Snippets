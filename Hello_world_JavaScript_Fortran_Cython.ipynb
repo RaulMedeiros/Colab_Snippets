{
  "nbformat": 4,
  "nbformat_minor": 0,
  "metadata": {
    "colab": {
      "name": "Hello_world_JavaScript_Fortran_Cython.ipynb",
      "version": "0.3.2",
      "provenance": [],
      "include_colab_link": true
    }
  },
  "cells": [
    {
      "cell_type": "markdown",
      "metadata": {
        "id": "view-in-github",
        "colab_type": "text"
      },
      "source": [
        "[View in Colaboratory](https://colab.research.google.com/github/RaulMedeiros/Colab_Snippets/blob/master/Hello_world_JavaScript_Fortran_Cython.ipynb)"
      ]
    },
    {
      "metadata": {
        "id": "EckJI-QM8mVf",
        "colab_type": "text"
      },
      "cell_type": "markdown",
      "source": [
        "### Execute JavaScript Codes"
      ]
    },
    {
      "metadata": {
        "id": "6iE0z-I167Oj",
        "colab_type": "code",
        "colab": {
          "base_uri": "https://localhost:8080/",
          "height": 34
        },
        "outputId": "57ec0956-9373-470e-9e05-29d52510bfc9"
      },
      "cell_type": "code",
      "source": [
        "import IPython\n",
        "js_code = '''\n",
        "document.querySelector(\"#output-area\").appendChild(document.createTextNode(\"hello world!\"));\n",
        "'''\n",
        "display(IPython.display.Javascript(js_code))"
      ],
      "execution_count": 1,
      "outputs": [
        {
          "output_type": "display_data",
          "data": {
            "application/javascript": [
              "\n",
              "document.querySelector(\"#output-area\").appendChild(document.createTextNode(\"hello world!\"));\n"
            ],
            "text/plain": [
              "<IPython.core.display.Javascript object>"
            ]
          },
          "metadata": {
            "tags": []
          }
        }
      ]
    },
    {
      "metadata": {
        "id": "h6vpKMYN8vD3",
        "colab_type": "text"
      },
      "cell_type": "markdown",
      "source": [
        "### Execute Fortran Codes"
      ]
    },
    {
      "metadata": {
        "id": "SMLPYZWe7psz",
        "colab_type": "code",
        "colab": {
          "base_uri": "https://localhost:8080/",
          "height": 384
        },
        "outputId": "63560d08-a9aa-4695-ff41-987f6b672eb3"
      },
      "cell_type": "code",
      "source": [
        "!pip install fortran-magic \n",
        "%load_ext fortranmagic"
      ],
      "execution_count": 0,
      "outputs": [
        {
          "output_type": "stream",
          "text": [
            "Collecting fortran-magic\n",
            "  Downloading https://files.pythonhosted.org/packages/53/b1/d664bd431354c450f40fa436b2c9306666cd417b23098dd5636751c557a4/fortran_magic-0.7-py3-none-any.whl\n",
            "Requirement already satisfied: numpy in /usr/local/lib/python3.6/dist-packages (from fortran-magic) (1.14.3)\n",
            "Requirement already satisfied: ipython in /usr/local/lib/python3.6/dist-packages (from fortran-magic) (5.5.0)\n",
            "Requirement already satisfied: pexpect; sys_platform != \"win32\" in /usr/local/lib/python3.6/dist-packages (from ipython->fortran-magic) (4.5.0)\n",
            "Requirement already satisfied: prompt-toolkit<2.0.0,>=1.0.4 in /usr/local/lib/python3.6/dist-packages (from ipython->fortran-magic) (1.0.15)\n",
            "Requirement already satisfied: decorator in /usr/local/lib/python3.6/dist-packages (from ipython->fortran-magic) (4.3.0)\n",
            "Requirement already satisfied: traitlets>=4.2 in /usr/local/lib/python3.6/dist-packages (from ipython->fortran-magic) (4.3.2)\n",
            "Requirement already satisfied: pygments in /usr/local/lib/python3.6/dist-packages (from ipython->fortran-magic) (2.1.3)\n",
            "Requirement already satisfied: pickleshare in /usr/local/lib/python3.6/dist-packages (from ipython->fortran-magic) (0.7.4)\n",
            "Requirement already satisfied: setuptools>=18.5 in /usr/local/lib/python3.6/dist-packages (from ipython->fortran-magic) (39.2.0)\n",
            "Requirement already satisfied: simplegeneric>0.8 in /usr/local/lib/python3.6/dist-packages (from ipython->fortran-magic) (0.8.1)\n",
            "Requirement already satisfied: ptyprocess>=0.5 in /usr/local/lib/python3.6/dist-packages (from pexpect; sys_platform != \"win32\"->ipython->fortran-magic) (0.5.2)\n",
            "Requirement already satisfied: six>=1.9.0 in /usr/local/lib/python3.6/dist-packages (from prompt-toolkit<2.0.0,>=1.0.4->ipython->fortran-magic) (1.11.0)\n",
            "Requirement already satisfied: wcwidth in /usr/local/lib/python3.6/dist-packages (from prompt-toolkit<2.0.0,>=1.0.4->ipython->fortran-magic) (0.1.7)\n",
            "Requirement already satisfied: ipython-genutils in /usr/local/lib/python3.6/dist-packages (from traitlets>=4.2->ipython->fortran-magic) (0.2.0)\n",
            "Installing collected packages: fortran-magic\n",
            "Successfully installed fortran-magic-0.7\n"
          ],
          "name": "stdout"
        },
        {
          "output_type": "stream",
          "text": [
            "/usr/local/lib/python3.6/dist-packages/fortranmagic.py:147: UserWarning: get_ipython_cache_dir has moved to the IPython.paths module since IPython 4.0.\n",
            "  self._lib_dir = os.path.join(get_ipython_cache_dir(), 'fortran')\n"
          ],
          "name": "stderr"
        },
        {
          "output_type": "display_data",
          "data": {
            "application/javascript": [
              "$.getScript(\"https://raw.github.com/marijnh/CodeMirror/master/mode/fortran/fortran.js\", function () {\n",
              "IPython.config.cell_magic_highlight['magic_fortran'] = {'reg':[/^%%fortran/]};});\n"
            ]
          },
          "metadata": {
            "tags": []
          }
        }
      ]
    },
    {
      "metadata": {
        "id": "6Tu5mdWz677-",
        "colab_type": "code",
        "colab": {}
      },
      "cell_type": "code",
      "source": [
        "%%fortran\n",
        "subroutine compute_fortran(x, y, z)\n",
        "    real, intent(in) :: x(:), y(:)\n",
        "    real, intent(out) :: z(size(x, 1))\n",
        "\n",
        "    z = sin(x + y)\n",
        "\n",
        "end subroutine compute_fortran"
      ],
      "execution_count": 0,
      "outputs": []
    },
    {
      "metadata": {
        "id": "cI06BjXA8VI2",
        "colab_type": "code",
        "colab": {
          "base_uri": "https://localhost:8080/",
          "height": 34
        },
        "outputId": "fbd7d445-d123-4732-dfc7-c7af3f251729"
      },
      "cell_type": "code",
      "source": [
        "compute_fortran([1, 2, 3], [4, 5, 6])"
      ],
      "execution_count": 0,
      "outputs": [
        {
          "output_type": "execute_result",
          "data": {
            "text/plain": [
              "array([-0.9589243,  0.6569866,  0.4121185], dtype=float32)"
            ]
          },
          "metadata": {
            "tags": []
          },
          "execution_count": 15
        }
      ]
    },
    {
      "metadata": {
        "id": "vuHcZwF68yxN",
        "colab_type": "text"
      },
      "cell_type": "markdown",
      "source": [
        "### Execute Cython Codes"
      ]
    },
    {
      "metadata": {
        "id": "0EHohZle8GXe",
        "colab_type": "code",
        "colab": {
          "base_uri": "https://localhost:8080/",
          "height": 124
        },
        "outputId": "3ab8f4d0-94f0-4872-e868-7e06a73f24bf"
      },
      "cell_type": "code",
      "source": [
        "!pip install cython\n",
        "%load_ext Cython"
      ],
      "execution_count": 0,
      "outputs": [
        {
          "output_type": "stream",
          "text": [
            "Collecting cython\n",
            "\u001b[?25l  Downloading https://files.pythonhosted.org/packages/6f/79/d8e2cd00bea8156a995fb284ce7b6677c49eccd2d318f73e201a9ce560dc/Cython-0.28.3-cp36-cp36m-manylinux1_x86_64.whl (3.4MB)\n",
            "\u001b[K    100% |████████████████████████████████| 3.4MB 6.4MB/s \n",
            "\u001b[?25hInstalling collected packages: cython\n",
            "Successfully installed cython-0.28.3\n"
          ],
          "name": "stdout"
        }
      ]
    },
    {
      "metadata": {
        "id": "d9voPMF88JTf",
        "colab_type": "code",
        "colab": {}
      },
      "cell_type": "code",
      "source": [
        "%%cython\n",
        "def myltiply_by_2(float x):\n",
        "    return 2.0 * x"
      ],
      "execution_count": 0,
      "outputs": []
    },
    {
      "metadata": {
        "id": "MgIu_BWe8SDH",
        "colab_type": "code",
        "colab": {
          "base_uri": "https://localhost:8080/",
          "height": 34
        },
        "outputId": "06a9df74-26d5-4223-b22d-3518db58302c"
      },
      "cell_type": "code",
      "source": [
        "myltiply_by_2(23.)"
      ],
      "execution_count": 0,
      "outputs": [
        {
          "output_type": "execute_result",
          "data": {
            "text/plain": [
              "46.0"
            ]
          },
          "metadata": {
            "tags": []
          },
          "execution_count": 13
        }
      ]
    }
  ]
}